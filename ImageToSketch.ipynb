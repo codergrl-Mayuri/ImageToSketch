{
 "cells": [
  {
   "cell_type": "code",
   "execution_count": null,
   "id": "a3ffb8aa-bb36-4998-be62-85e2ea9fa846",
   "metadata": {},
   "outputs": [],
   "source": [
    "import cv2\n",
    "import matplotlib.pyplot as plt"
   ]
  },
  {
   "cell_type": "code",
   "execution_count": 2,
   "id": "ddc51aa6-a98d-48f4-a377-9133c342dace",
   "metadata": {},
   "outputs": [],
   "source": [
    "img=cv2.imread(\"dog.jpg\")"
   ]
  },
  {
   "cell_type": "code",
   "execution_count": null,
   "id": "fef5f215-2ff0-4ee2-bfec-3e52836d1eb9",
   "metadata": {},
   "outputs": [],
   "source": [
    "plt.imshow(img)\n",
    "plt.axis(False)\n",
    "plt.show()"
   ]
  },
  {
   "cell_type": "code",
   "execution_count": null,
   "id": "e0a3e3a6-93fa-42b1-9488-11de23d73b3e",
   "metadata": {},
   "outputs": [],
   "source": [
    "RGB_img = cv2.cvtColor(img, cv2.COLOR_BGR2RGB)\n",
    "plt.imshow(RGB_img)\n",
    "plt.axis(False)\n",
    "plt.show()"
   ]
  },
  {
   "cell_type": "code",
   "execution_count": 5,
   "id": "1c067e9f-a080-4bdd-be9e-58e2e84841bd",
   "metadata": {},
   "outputs": [],
   "source": [
    "grey_img=cv2.cvtColor(img, cv2.COLOR_BGR2GRAY)"
   ]
  },
  {
   "cell_type": "code",
   "execution_count": 6,
   "id": "43648121-fa2c-48db-ac0b-560c8c19412d",
   "metadata": {},
   "outputs": [],
   "source": [
    "invert_img=cv2.bitwise_not(grey_img)"
   ]
  },
  {
   "cell_type": "code",
   "execution_count": 7,
   "id": "ab3ecbc1-bf68-437c-aa1e-7064e03c0b3d",
   "metadata": {},
   "outputs": [],
   "source": [
    "blur_img=cv2.GaussianBlur(invert_img, (111,111),0)"
   ]
  },
  {
   "cell_type": "code",
   "execution_count": 8,
   "id": "2700e2d8-850e-4f9f-8787-eb54d59f6824",
   "metadata": {},
   "outputs": [],
   "source": [
    "invblur_img=cv2.bitwise_not(blur_img)"
   ]
  },
  {
   "cell_type": "code",
   "execution_count": 9,
   "id": "a3f4a161-7637-49be-9b27-caca64e9a092",
   "metadata": {},
   "outputs": [],
   "source": [
    "sketch_img=cv2.divide(grey_img,invblur_img, scale=256.0)"
   ]
  },
  {
   "cell_type": "code",
   "execution_count": null,
   "id": "24e1c8d0-9f51-4a5f-af31-4f075a3f3e71",
   "metadata": {},
   "outputs": [],
   "source": [
    "cv2.imwrite(\"sketch.png\", sketch_img)"
   ]
  },
  {
   "cell_type": "code",
   "execution_count": null,
   "id": "3ed0eafb-cdd6-4618-97ad-770ca514954f",
   "metadata": {},
   "outputs": [],
   "source": [
    "cv2.imshow(\"sketch image\",sketch_img)\n",
    "cv2.waitKey(0)\n",
    "cv2.destroyAllWindows()"
   ]
  },
  {
   "cell_type": "code",
   "execution_count": null,
   "id": "df4d49fc-a60d-4416-91a2-c42ded82cbf8",
   "metadata": {},
   "outputs": [],
   "source": [
    "plt.figure(figsize=(14,8))\n",
    "plt.subplot(1,2,1)\n",
    "plt.title('Original image', size=18)\n",
    "plt.imshow(RGB_img)\n",
    "plt.axis('off')\n",
    "plt.subplot(1,2,2)\n",
    "plt.title('Sketch', size=18)\n",
    "rgb_sketch=cv2.cvtColor(sketch_img, cv2.COLOR_BGR2RGB)\n",
    "plt.imshow(rgb_sketch)\n",
    "plt.axis('off')\n",
    "plt.show()"
   ]
  }
 ],
 "metadata": {
  "kernelspec": {
   "display_name": "Python 3.11.1 64-bit",
   "language": "python",
   "name": "python3"
  },
  "language_info": {
   "codemirror_mode": {
    "name": "ipython",
    "version": 3
   },
   "file_extension": ".py",
   "mimetype": "text/x-python",
   "name": "python",
   "nbconvert_exporter": "python",
   "pygments_lexer": "ipython3",
   "version": "3.11.1"
  },
  "vscode": {
   "interpreter": {
    "hash": "aee8b7b246df8f9039afb4144a1f6fd8d2ca17a180786b69acc140d282b71a49"
   }
  }
 },
 "nbformat": 4,
 "nbformat_minor": 5
}
